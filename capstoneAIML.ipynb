{
 "cells": [
  {
   "cell_type": "code",
   "execution_count": null,
   "id": "e9bbe661",
   "metadata": {},
   "outputs": [],
   "source": [
    "from IPython.display import HTML"
   ]
  },
  {
   "cell_type": "markdown",
   "id": "f0bb2652",
   "metadata": {},
   "source": [
    "<br><hr>"
   ]
  },
  {
   "cell_type": "markdown",
   "id": "63c8125b",
   "metadata": {},
   "source": [
    "<img align=\"left\" src=\"https://cgsm.org/wp-content/uploads/2019/12/berkeley-haas-wordmark_square-gold-white-on-blue.png\" width=\"100\" height=\"100\">\n",
    "<link rel=\"stylesheet\" href=\"https://fonts.googleapis.com/css?family=Merriweather\">\n",
    "<h1 align='center' style=\"color:#643872; font-family:Merriweather, sans-serif; font-size:36px;\">Professional Certificate Capstone 1<br>Artificial Intelligence & Machine Learning</h1>"
   ]
  },
  {
   "cell_type": "code",
   "execution_count": null,
   "id": "7db00585",
   "metadata": {},
   "outputs": [],
   "source": [
    "HTML('<p align=\"center\"><div style=\"padding:75% 0 0 0;position:relative;\"><iframe src=\"https://player.vimeo.com/video/739505155?autoplay=1&loop=1&h=b7141f3616&amp;badge=0&amp;autopause=0&amp;player_id=0&amp;app_id=58479\" frameborder=\"0\" allow=\"autoplay; fullscreen; picture-in-picture\" allowfullscreen style=\"position:absolute;top:0;left:0;width:100%;height:100%;\" title=\"Berkeley AIML CAPSTONE1\"></iframe></div><script src=\"https://player.vimeo.com/api/player.js\"></script></p>')"
   ]
  },
  {
   "cell_type": "markdown",
   "id": "a890bbb6",
   "metadata": {},
   "source": [
    "<img align=\"center\" src=\"https://www.signitysolutions.com/blog/wp-content/uploads/2020/09/artificial-intelligence-in-healthcare-sector.jpg\">"
   ]
  },
  {
   "cell_type": "markdown",
   "id": "3f0e2b70",
   "metadata": {},
   "source": [
    "Overview: In this capstone, my goal is to do the heavy lifting of the project. I will explore my data source, test a few of the techniques, and com up with a solution or answer to my research problem. "
   ]
  },
  {
   "cell_type": "markdown",
   "id": "9d5be948",
   "metadata": {},
   "source": [
    "***Research Problem***\n",
    "+ Hospitals are slammed with readmissions of patients. Specifically, data has been collected related to readmisssion as well as other outcomes pertaining to patients with diabetes. What can we do to reduce these readmissions and possibly improve patient health?"
   ]
  },
  {
   "cell_type": "markdown",
   "id": "7f92ff29",
   "metadata": {},
   "source": [
    "***Data Source***\n",
    "+ https://archive.ics.uci.edu/ml/datasets/diabetes+130-us+hospitals+for+years+1999-2008 (Links to an external site.) - This data was donated in 2014 and is a collection of the past 6 years. "
   ]
  },
  {
   "cell_type": "markdown",
   "id": "0c75262d",
   "metadata": {},
   "source": [
    "***Modeling Techniques To Be Used:***\n",
    "+ Multi-class classification using one of Logistic Regression or Decision Trees, Counterfactual technique"
   ]
  },
  {
   "cell_type": "markdown",
   "id": "7c5b8557",
   "metadata": {},
   "source": [
    "***Expected Results***\n",
    "+ I am expecting to find what are the important things (features) that contribute to a return/readmission. From this point, perhaps use the counterfactual explanations technique to determine what can possibly be changed to get a readmission score of False. "
   ]
  },
  {
   "cell_type": "markdown",
   "id": "2ca06473",
   "metadata": {},
   "source": [
    "***Why This Question Is Important***\n",
    "+ This question is important because individuals are being readmitted to hospitals for the same things. Particularly, in this case, these are diabetic patients. Diabetes is morbidity that needs to be watched closely and coupled with other issues that can lead to complexity and/or fatality. Thus, perhaps we can provide recommendations on changes to 1) keep the patient healthier and 2) keep readmissions down amongst diabetic patients."
   ]
  },
  {
   "cell_type": "markdown",
   "id": "69d40d7a",
   "metadata": {},
   "source": [
    "<br><br><h1 align='center' style=\"color:#643872; font-family:Merriweather, sans-serif; font-size:36px;\">Understanding the Data</h1><hr>\n",
    "\n",
    "From our data source, we are presented with various data from over 10 years of clinical care at 130 US hospitals and integrated delivery networks. It includes over 40 features representing patient and hospital outcomes. Information was extracted from the database for encounters that satisfied the following criteria:\n",
    "+ It is an inpatient encounter (a hospital admission).\n",
    "+ It is a diabetic encounter, that is, one during which any kind of diabetes was entered to the system as a diagnosis.\n",
    "+ The length of stay was at least 1 day and at most 14 days.\n",
    "+ Laboratory tests were performed during the encounter.\n",
    "+ Medications were administered during the encounter.\n",
    "\n",
    "The data contains such attributes as patient number, race, gender, age, admission type, time in hospital, medical specialty of admitting physician, number of lab test performed, HbA1c test result, diagnosis, number of medication, diabetic medications, number of outpatient, inpatient, and emergency visits in the year before the hospitalization, etc."
   ]
  },
  {
   "cell_type": "markdown",
   "id": "8c500dc2",
   "metadata": {},
   "source": [
    "<br><br><h1 align='center' style=\"color:#643872; font-family:Merriweather, sans-serif; font-size:36px;\">Prerequisites + Reading In The Data</h1><hr>\n",
    "\n",
    "Here we will use pandas to read in the dataset diabetic_data.csv and assign a meaningful variable name. "
   ]
  },
  {
   "cell_type": "code",
   "execution_count": null,
   "id": "fd3f2ea9",
   "metadata": {},
   "outputs": [],
   "source": [
    "import pandas as pd\n",
    "import numpy as np\n",
    "import matplotlib.pyplot as plt\n",
    "import seaborn as sns\n",
    "import plotly.express as px\n",
    "\n",
    "from sklearn.experimental import enable_iterative_imputer\n",
    "from sklearn.impute import IterativeImputer\n",
    "from sklearn import preprocessing\n",
    "from tqdm import tqdm\n",
    "from time import time\n",
    "from sklearn.datasets import load_digits\n",
    "from sklearn.preprocessing import LabelEncoder\n",
    "from sklearn.model_selection import train_test_split, GridSearchCV\n",
    "from sklearn.linear_model import BayesianRidge, LogisticRegression\n",
    "from sklearn import metrics\n",
    "from sklearn.metrics import classification_report, confusion_matrix\n",
    "from sklearn import preprocessing\n",
    "from sklearn.tree import DecisionTreeClassifier\n",
    "from sklearn.neighbors import KNeighborsClassifier\n",
    "from sklearn.svm import SVC\n",
    "from sklearn.dummy import DummyClassifier\n",
    "from sklearn.metrics import mean_squared_error, mean_absolute_error, r2_score\n",
    "from statsmodels.tools.eval_measures import rmse\n",
    "from sklearn.inspection import permutation_importance\n",
    "from sklearn import svm\n",
    "from sklearn.svm import SVC\n",
    "from pylab import rcParams\n",
    "import dice_ml\n",
    "\n",
    "\n",
    "\n",
    "import warnings\n",
    "warnings.filterwarnings('ignore')"
   ]
  },
  {
   "cell_type": "code",
   "execution_count": null,
   "id": "01a60722",
   "metadata": {},
   "outputs": [],
   "source": [
    "df = pd.read_csv('data/diabetic_data.csv', sep = ',')"
   ]
  },
  {
   "cell_type": "code",
   "execution_count": null,
   "id": "c1397f47",
   "metadata": {
    "scrolled": true
   },
   "outputs": [],
   "source": [
    "df.head()"
   ]
  },
  {
   "cell_type": "code",
   "execution_count": null,
   "id": "a6c8c3a4",
   "metadata": {
    "scrolled": true
   },
   "outputs": [],
   "source": [
    "df.info()"
   ]
  },
  {
   "cell_type": "code",
   "execution_count": null,
   "id": "c7dfd680",
   "metadata": {},
   "outputs": [],
   "source": [
    "df.describe()"
   ]
  },
  {
   "cell_type": "code",
   "execution_count": null,
   "id": "f1889ee6",
   "metadata": {},
   "outputs": [],
   "source": [
    "df.isnull().sum()"
   ]
  },
  {
   "cell_type": "markdown",
   "id": "cf5736ad",
   "metadata": {},
   "source": [
    "#### <font color='green'><i>Our data is pretty clean to start. There are some columms we will take care of below.</i></font>"
   ]
  },
  {
   "cell_type": "markdown",
   "id": "94c6ca4a",
   "metadata": {},
   "source": [
    "<img src=\"https://www.signitysolutions.com/blog/wp-content/uploads/2020/09/How-AI-is-Transforming-Healthcare-1024x576.jpg\">"
   ]
  },
  {
   "cell_type": "markdown",
   "id": "c07c293b",
   "metadata": {},
   "source": [
    "<br><br><h1 align='center' style=\"color:#643872; font-family:Merriweather, sans-serif; font-size:36px;\">Understanding the Features</h1><hr>\n",
    "\n",
    "\n",
    "Here we will examine the data and determine if any of the features are missing values or need to be coerced to a different data type. Some features can be dropped due to being grossly empty. Other may need to be cleaned up further. \n",
    "\n",
    "Input Variables:\n",
    "\n",
    "1. <b>race</b> - <i>The race of the patient</i>\n",
    "2. <b>gender</b> - <i>The gender of the patient (some marked as unknown)</i>\n",
    "3. <b>age</b>\t- <i>The age of the patient</i>\n",
    "4. <b>admission_type_id</b> - <i>Integer identifier corresponding to 9 distinct values, for example, emergency, urgent, elective, newborn, and not available</i>\n",
    "5. <b>discharge_disposition_id</b>\t- <i>Integer identifier corresponding to 29 distinct values, for example, discharged to home, expired, and not available</i>\n",
    "6. <b>admission_source_id</b> - <i>Integer identifier corresponding to 21 distinct values, for example, physician referral, emergency room, and transfer from a hospital</i>\t\n",
    "7. <b>time_in_hospital</b>\t- <i>Integer number of days between admission and discharge</i>\n",
    "8. <b>medical_specialty</b> - <i>Integer identifier of a specialty of the admitting physician, corresponding to 84 distinct values, for example, cardiology, internal medicine, family/general practice, and surgeon</i>\n",
    "9. <b>num_lab_procedures</b>\t- <i>Number of lab tests performed during the encounter</i>\n",
    "10. <b>num_procedures</b>\t- <i>4</i>\n",
    "11. <b>num_medications</b>\t- <i>Number of distinct generic names administered during the encounter</i>\n",
    "12. <b>number_outpatient</b> -\t<i>Number of outpatient visits of the patient in the year preceding the encounter</i>\n",
    "13. <b>number_emergency</b>\t- <i>Number of emergency visits of the patient in the year preceding the encounter</i>\n",
    "14. <b>number_inpatient</b>\t- <i>Number of inpatient visits of the patient in the year preceding the encounter</i>\n",
    "15. <b>diag_1</b>\t- <i>The primary diagnosis (coded as first three digits of ICD9); 848 distinct values</i>\n",
    "16. <b>diag_2</b>\t- <i>Secondary diagnosis (coded as first three digits of ICD9); 923 distinct values</i>\n",
    "17. <b>diag_3</b>\t- <i>Additional secondary diagnosis (coded as first three digits of ICD9); 954 distinct values</i>\n",
    "18. <b>number_diagnoses</b>\t- <i>Number of diagnoses entered to the system 0%</i>\n",
    "19. <b>max_glu_serum</b>\t- <i>Indicates the range of the result or if the test was not taken. Values: “>200,” “>300,” “normal,” and “none” if not measured</i>\n",
    "20. <b>A1Cresult</b>\t- <i>Indicates the range of the result or if the test was not taken. Values: “>8” if the result was greater than 8%, “>7” if the result was greater than 7% but less than 8%, “normal” if the result was less than 7%, and “none” if not measured.</i>\n",
    "21. <b>metformin</b>\t- <i>medical drug</i>\n",
    "22. <b>repaglinid</b>e\t- <i>medical drug</i>\n",
    "23. <b>nateglinide</b>\t- <i>medical drug</i>\n",
    "24. <b>chlorpropamide</b>\t- <i>medical drug</i>\n",
    "25. <b>glimepiride</b>\t- <i>medical drug</i>\n",
    "26. <b>acetohexamide</b>\t- <i>medical drug</i>\n",
    "27. <b>glipizide</b>\t- <i>medical drug</i>\n",
    "28. <b>glyburide</b>\t- <i>medical drug</i>\n",
    "29. <b>tolbutamide</b>\t- <i>medical drug</i>\n",
    "30. <b>pioglitazone</b>\t- <i>medical drug</i>\n",
    "31. <b>rosiglitazone</b> - <i>medical drug\t</i>\n",
    "32. <b>acarbose</b>\t- <i>medical drug</i>\n",
    "33. <b>miglitol</b>\t- <i>medical drug</i>\n",
    "34. <b>troglitazone</b>\t- <i>medical drug</i>\n",
    "35. <b>tolazamide</b>\t- <i>medical drug</i>\n",
    "36. <b>examide</b>\t- <i>medical drug</i>\n",
    "37. <b>citoglipton</b>\t- <i>medical drug</i>\n",
    "38. <b>insulin</b>\t- <i>medical drug</i>\n",
    "39. <b>glyburide-metformin</b>\t-<i> medical drug</i>\n",
    "40. <b>glipizide-metformin</b>\t- <i>medical drug</i>\n",
    "41. <b>glimepiride-pioglitazone</b>\t- <i>medical drug</i>\n",
    "42. <b>metformin-rosiglitazone</b>\t- <i>medical drug</i>\n",
    "43. <b>metformin-pioglitazone</b>\t- <i>medical drug</i>\n",
    "44. <b>change</b>\t- <i>Indicates if there was a change in diabetic medications (either dosage or generic name). Values: “change” and “no change”</i>\n",
    "45. <b>diabetesMed</b>\t-<i>Indicates if there was any diabetic medication prescribed. Values: “yes” and “no”</i>\n",
    "\n",
    "Output variable (desired target):<br>\n",
    "46. <b>readmitted</b> - <i>(<30 for less than 30 times, >30 for greater than 30 times, NO for not previously admitted) </i>"
   ]
  },
  {
   "cell_type": "code",
   "execution_count": null,
   "id": "b72a4503",
   "metadata": {},
   "outputs": [],
   "source": [
    "#remove obvious irrelevant columns\n",
    "df.drop(columns=['encounter_id','patient_nbr','weight', 'payer_code'], inplace=True)"
   ]
  },
  {
   "cell_type": "code",
   "execution_count": null,
   "id": "072af50d",
   "metadata": {},
   "outputs": [],
   "source": [
    "#find all columns that contain values of '?'. This can throw off our data. We will need to correct this.\n",
    "sub_df = df.loc[: , (df == '?').any()]\n",
    "print(sub_df.columns)"
   ]
  },
  {
   "cell_type": "code",
   "execution_count": null,
   "id": "1d03fc09",
   "metadata": {},
   "outputs": [],
   "source": [
    "#replace some values where it is marked as ? to unknown\n",
    "df['race'] = df['race'].replace({'?':'Unknown'})\n",
    "df['gender'] = df['gender'].replace({'?':'Unknown'})\n",
    "df['medical_specialty'] = df['medical_specialty'].replace({'?':'Unknown'})\n",
    "df['diag_1'] = df['diag_1'].replace({'?':'Unknown'})\n",
    "df['diag_2'] = df['diag_2'].replace({'?':'Unknown'})\n",
    "df['diag_3'] = df['diag_3'].replace({'?':'Unknown'})\n",
    "#for the readmittance feature, lets replace none with Not Previously Admitted; less than 30 to Readmitted; and great than 30 to Readmitted\n",
    "#we are waiving the 3 options down to 2. Our goal for this project is to simply get the usual readmitted patients to a point\n",
    "#where they are not being readmitted. Thus, the binary classification of No Readmission vs Readmitted\n",
    "df['readmitted'] = df['readmitted'].replace({'NO':'No Readmission'})\n",
    "df['readmitted'] = df['readmitted'].replace({'<30':'Readmitted'})\n",
    "df['readmitted'] = df['readmitted'].replace({'>30':'Readmitted'})\n",
    "df['age'] = df['age'].replace({'[0-10)':5, \n",
    "                               '[10-20)':15, \n",
    "                               '[20-30)':25, \n",
    "                               '[30-40)':35, \n",
    "                               '[40-50)':45, \n",
    "                               '[50-60)':55 , \n",
    "                               '[60-70)':65 ,\n",
    "                               '[70-80)':75,  \n",
    "                               '[80-90)':85 ,\n",
    "                               '[90-100)':95 })\n",
    "#\n"
   ]
  },
  {
   "cell_type": "code",
   "execution_count": null,
   "id": "029a943f",
   "metadata": {},
   "outputs": [],
   "source": [
    "#verify changes\n",
    "df.info()"
   ]
  },
  {
   "cell_type": "code",
   "execution_count": null,
   "id": "4815caaa",
   "metadata": {},
   "outputs": [],
   "source": [
    "df.shape"
   ]
  },
  {
   "cell_type": "code",
   "execution_count": null,
   "id": "2fd16614",
   "metadata": {},
   "outputs": [],
   "source": [
    "#Quick glance at distribution of data\n",
    "df.hist(figsize=(20,15), bins=25)"
   ]
  },
  {
   "cell_type": "code",
   "execution_count": null,
   "id": "4961caf3",
   "metadata": {
    "scrolled": true
   },
   "outputs": [],
   "source": [
    "df.head()"
   ]
  },
  {
   "cell_type": "code",
   "execution_count": null,
   "id": "a8d1b98d",
   "metadata": {},
   "outputs": [],
   "source": [
    "#pairplot for further visual observations\n",
    "sns.pairplot(df)"
   ]
  },
  {
   "cell_type": "code",
   "execution_count": null,
   "id": "530ed039",
   "metadata": {
    "scrolled": true
   },
   "outputs": [],
   "source": [
    "# Heat map to help show correlation matrix. Will allow aid in showing correlation between those numeric features\n",
    "fig, ax = plt.subplots(figsize=(10,8)) \n",
    "sns.heatmap(df.corr(), annot=True)"
   ]
  },
  {
   "cell_type": "markdown",
   "id": "10f899c8",
   "metadata": {},
   "source": [
    "<b>Observations</b>\n",
    "+ While the overall correlation between features appear to be minimal, we'll reserve an in depth analysis for later. \n",
    "+ We're able to see the highest relation at 0.47: time in hospital vs. number of medications.\n",
    "+ Upon brief observation, it appears that the higher number of medications the patient is on, the longer they stay in the hospital is."
   ]
  },
  {
   "cell_type": "markdown",
   "id": "94505122",
   "metadata": {},
   "source": [
    "<h1 align='center' style=\"color:#643872; font-family:Merriweather, sans-serif; font-size:36px;\">Further Visuals</h1><hr>"
   ]
  },
  {
   "cell_type": "code",
   "execution_count": null,
   "id": "7bb72950",
   "metadata": {
    "scrolled": true
   },
   "outputs": [],
   "source": [
    "#readmittance by race\n",
    "fig, ax = plt.subplots(figsize=(15,5)) \n",
    "sns.countplot(data=df, x='race', hue='readmitted')\n",
    "plt.title('Readmittance Occurence base on Race')\n",
    "plt.legend(title='Readmittance', loc='upper right')"
   ]
  },
  {
   "cell_type": "markdown",
   "id": "0c618876",
   "metadata": {},
   "source": [
    "**Observations**\n",
    "+ In our plot, we can see Caucasians have the highest amount of admittances, followed by African American, Asian, and then Hispanic\n",
    "+ Some of our data did not include the race of the patient or it was not opted to not be disclosed by the patient.\n",
    "<hr><br>"
   ]
  },
  {
   "cell_type": "code",
   "execution_count": null,
   "id": "f2501c27",
   "metadata": {
    "scrolled": true
   },
   "outputs": [],
   "source": [
    "#Readmittance by gender\n",
    "px.histogram(df, x='readmitted', color='gender', title='Readmittance Occurence based on gender')"
   ]
  },
  {
   "cell_type": "markdown",
   "id": "0df036b7",
   "metadata": {},
   "source": [
    "**Observations**\n",
    "+ From our observation, we can see that females have higher rate of being readmitted (25.67k) vs males (21.23k)\n",
    "+ The same is true for no readmittance\n",
    "+ Perhaps there is some other clinical reason for this. We will not observe this in our project. \n",
    "<hr><br>"
   ]
  },
  {
   "cell_type": "code",
   "execution_count": null,
   "id": "24a84d2d",
   "metadata": {
    "scrolled": true
   },
   "outputs": [],
   "source": [
    "fig, ax = plt.subplots(figsize=(15,5)) \n",
    "sns.countplot(data=df, x='age', hue='readmitted')\n",
    "plt.title('Readmittance Occurence base on Age')\n",
    "plt.legend(title='Readmittance', loc='upper right')"
   ]
  },
  {
   "cell_type": "markdown",
   "id": "7a4c8d0d",
   "metadata": {},
   "source": [
    "**Observations**\n",
    "+ Of the age groups, our highest of admissions is betwen 70 and 80 yrs of age, followed by: 60-70, 80-90, then 50-60. It seems there is a much higher occurance in readmittance with elderly individuals.\n",
    "+ The same seems to follow for those that are not readmitted.\n",
    "<hr><br>"
   ]
  },
  {
   "cell_type": "code",
   "execution_count": null,
   "id": "6e892060",
   "metadata": {
    "scrolled": true
   },
   "outputs": [],
   "source": [
    "dic_status = {1: \"Emergency\", 2: \"Urgent\", 3: \"Elective\", 4: \"Newborn\", 5: \"Not Available\", 6: \"Not Noted\", 7: \"Trauma Center\", 8: \"Not Mapped\"}\n",
    "df[\"admission_type_id_mapped\"] = df[\"admission_type_id\"].map(dic_status)\n",
    "\n",
    "fig, ax = plt.subplots(figsize=(15,7)) \n",
    "sns.countplot(data=df, x='admission_type_id_mapped', hue='readmitted')\n",
    "plt.title('Readmittance Occurence base on the Admission Type')\n",
    "plt.legend(title='Readmittance', loc='upper right')\n",
    "plt.xlabel(\"Reason For Being Admitted\")\n",
    "plt.tick_params(axis='x', rotation=30)"
   ]
  },
  {
   "cell_type": "markdown",
   "id": "7693a1c0",
   "metadata": {},
   "source": [
    "**Observations**\n",
    "+ Our plot gives us insight into the reason being admitted. Patients generally come thru the emergency room, followed by (urgent) those of a direct admit by a referring physician, then those patients that request to be admitted.\n",
    "<hr><br>"
   ]
  },
  {
   "cell_type": "code",
   "execution_count": null,
   "id": "b1074b8d",
   "metadata": {
    "scrolled": true
   },
   "outputs": [],
   "source": [
    "dic_status = {1: \" Physician Referral\", \n",
    "              2: \"Clinic Referral\", \n",
    "              3: \"HMO Referral\", \n",
    "              4: \"Transfer From Hospital\", \n",
    "              5: \"Transfer From SNF\", \n",
    "              6: \"Transfer From HCF\", \n",
    "              7: \"Emergency Room\", \n",
    "              8: \"Court/Law Enforcement\", \n",
    "              9: \"Not Available\", \n",
    "              10: \"Transfer From CAH\",\n",
    "              11: \"Normal Delivery\",\n",
    "              12: \"Premature Delivery\",\n",
    "              13: \"Sick Baby\",\n",
    "              14: \"Extramural Birth\",\n",
    "              15: \"Not Available\",\n",
    "              17: \"Not Available\",\n",
    "              18: \"Transfer From HHA\",\n",
    "              19: \"Readmission to Same HHA\",\n",
    "              20: \"Not Mapped\",\n",
    "              21: \"Unknown/Invalid\",\n",
    "              22: \"Transfer From Hospital Inpatient\",\n",
    "              23: \"Born Inside This Hospital\",\n",
    "              24: \"Born Outside This Hospital\",\n",
    "              25: \"Transfer From ASC\",\n",
    "              26: \"Transfer From Hospice\"}\n",
    "df[\"discharge_disposition_id_mapped\"] = df[\"admission_type_id\"].map(dic_status)\n",
    "\n",
    "fig, ax = plt.subplots(figsize=(15,7)) \n",
    "sns.countplot(data=df, x='discharge_disposition_id_mapped', hue='readmitted')\n",
    "plt.title('Readmittance Occurence base on the Original Admission Source')\n",
    "plt.legend(title='Readmittance by Source', loc='upper right')\n",
    "plt.xlabel(\"Admission Source\")\n",
    "plt.tick_params(axis='x', rotation=90)"
   ]
  },
  {
   "cell_type": "markdown",
   "id": "9a9a2cc3",
   "metadata": {},
   "source": [
    "**Observations**\n",
    "+ Our highest class of those being readmitted are from direct Physician Referrals. In our project, we'll make efforts to keep the patient with their Physician and make recommendations on health items that can be utilized to keep the patient from being readmitted. We can use Counterfactual Explanations technique for this. \n",
    "+ Akin to the previous mentioned, Clinical Referrals and HMO Referrals are sending the most patients for Emergency Room referrals. We can make an impact on this where something health things can be better controlled. As mentioned, we will look at Counterfactual Explanations for guidance on what can be further managed by the patient and physician.\n",
    "<hr><br>"
   ]
  },
  {
   "cell_type": "code",
   "execution_count": null,
   "id": "79b5b0c0",
   "metadata": {
    "scrolled": true
   },
   "outputs": [],
   "source": [
    "fig, ax = plt.subplots(figsize=(15,7)) \n",
    "sns.countplot(data=df, x='time_in_hospital', hue='readmitted')\n",
    "plt.title('Time Spent In Hospital (in hours)')\n",
    "plt.legend(title='Times Readmitted', loc='upper right')\n",
    "plt.xlabel(\"Time Spent In Hospital (hours)\")\n",
    "plt.tick_params(axis='x', rotation=90)"
   ]
  },
  {
   "cell_type": "markdown",
   "id": "d6ddebb1",
   "metadata": {},
   "source": [
    "**Observations**\n",
    "+ It looks like the distribution yields that 3 hrs is the height of the curve for the time that a patient has spent in the hospital\n",
    "+ Others have had stays as far as 14hrs when going to the emergency room! Wow!\n",
    "<hr><br>"
   ]
  },
  {
   "cell_type": "code",
   "execution_count": null,
   "id": "66ab8edf",
   "metadata": {
    "scrolled": true
   },
   "outputs": [],
   "source": [
    "fig, ax = plt.subplots(figsize=(15,7)) \n",
    "sns.barplot(data=df, x='num_lab_procedures', y='readmitted')\n",
    "plt.title('Labs Taken Once Admitted')\n",
    "#plt.legend(title='Times Readmitted', loc='upper right')\n",
    "plt.xlabel(\"Labs Taken\")"
   ]
  },
  {
   "cell_type": "markdown",
   "id": "428134c5",
   "metadata": {},
   "source": [
    "**Observations**\n",
    "+ The amount of labs taken at once is higher for those being readmitted. Could this note that there are more test to be run?\n",
    "+ Are these patients less healthier? Or do they have clinical issues that take further diagnosis?\n",
    "<hr><br>"
   ]
  },
  {
   "cell_type": "code",
   "execution_count": null,
   "id": "c3ac779d",
   "metadata": {
    "scrolled": true
   },
   "outputs": [],
   "source": [
    "fig, ax = plt.subplots(figsize=(15,7)) \n",
    "sns.countplot(data=df, x='num_procedures', hue='readmitted')\n",
    "plt.title('Number of Previous Procedures Performed')\n",
    "plt.legend(title='Times Readmitted', loc='upper right')\n",
    "plt.xlabel(\"Previous Procedures\")"
   ]
  },
  {
   "cell_type": "markdown",
   "id": "aeba1737",
   "metadata": {},
   "source": [
    "**Observations**\n",
    "+ Typically patients are not part of the group where they have had previous procedures. This is a good thing.\n",
    "+ There can be health complications with diabetic patients where they have had previous operations.\n",
    "<hr><br>"
   ]
  },
  {
   "cell_type": "code",
   "execution_count": null,
   "id": "5be8d8c3",
   "metadata": {
    "scrolled": true
   },
   "outputs": [],
   "source": [
    "fig, ax = plt.subplots(figsize=(15,7)) \n",
    "sns.countplot(data=df, x='num_medications', hue='readmitted')\n",
    "plt.title('Number of Medications Patient Are On')\n",
    "plt.legend(title='Times Readmitted', loc='upper right')\n",
    "plt.xlabel(\"Medication Count\")\n",
    "plt.tick_params(axis='x', rotation=-90)"
   ]
  },
  {
   "cell_type": "markdown",
   "id": "7eb555ad",
   "metadata": {},
   "source": [
    "**Observations**\n",
    "+ In my observation, the number of medications administered is alarmingly high! \n",
    "+ As we can see in the plot, some patients are reciging in the upwards of 60+ medications over the occurences of their stay at the hospitals\n",
    "+ It appears that the larger set of individuals receive between 12 and 16 medications during their encounter\n",
    "<hr><br>"
   ]
  },
  {
   "cell_type": "code",
   "execution_count": null,
   "id": "00c10397",
   "metadata": {
    "scrolled": true
   },
   "outputs": [],
   "source": [
    "fig, ax = plt.subplots(figsize=(15,7)) \n",
    "sns.countplot(data=df, x='number_outpatient', hue='readmitted')\n",
    "plt.title('Number of Previous Outpatient Visits, Previous Yr')\n",
    "plt.legend(title='Times Readmitted', loc='upper right')\n",
    "plt.xlabel(\"Previous Outpatient Visits, Previous Yr\")\n",
    "plt.tick_params(axis='x', rotation=90)"
   ]
  },
  {
   "cell_type": "markdown",
   "id": "17945c80",
   "metadata": {},
   "source": [
    "**Observations**\n",
    "+ Typically, most non-admitted patients are not being seen in outpatient clinic throughout the previous year.\n",
    "+ For those who were admitted, they too are typically not being seen in outpatient clinic through the previous year.\n",
    "<hr><br>"
   ]
  },
  {
   "cell_type": "code",
   "execution_count": null,
   "id": "935da5bc",
   "metadata": {
    "scrolled": true
   },
   "outputs": [],
   "source": [
    "fig, ax = plt.subplots(figsize=(15,7)) \n",
    "sns.countplot(data=df, x='number_emergency', hue='readmitted')\n",
    "plt.title('Number of Previous Emergency Room Visits, Previous Yr')\n",
    "plt.legend(title='Times Readmitted', loc='upper right')\n",
    "plt.xlabel(\"Previous Emergency Room Visits, Previous Yr\")\n",
    "plt.tick_params(axis='x', rotation=90)"
   ]
  },
  {
   "cell_type": "markdown",
   "id": "132815e6",
   "metadata": {},
   "source": [
    "**Observations**\n",
    "+ Typically individuals did not have to go to the emergency room in the previous year.\n",
    "<hr><br>"
   ]
  },
  {
   "cell_type": "code",
   "execution_count": null,
   "id": "c5a1918d",
   "metadata": {
    "scrolled": true
   },
   "outputs": [],
   "source": [
    "fig, ax = plt.subplots(figsize=(15,7)) \n",
    "sns.countplot(data=df, x='number_inpatient', hue='readmitted')\n",
    "plt.title('Number of Previous Inpatient Admissions, Previous Yr')\n",
    "plt.legend(title='Times Readmitted', loc='upper right')\n",
    "plt.xlabel(\"Previous Inpatient Admissions, Previous Yr\")\n",
    "plt.tick_params(axis='x', rotation=90)"
   ]
  },
  {
   "cell_type": "markdown",
   "id": "24c454d1",
   "metadata": {},
   "source": [
    "**Observations**\n",
    "+ As we look at inpatient visits, the proportionality vs outpatient begins to change. \n",
    "+ While those that are not readmitted remain highest, the number of those who were readmitted, are seeing higher inpatient admissions in the previous year.\n",
    "<hr><br>"
   ]
  },
  {
   "cell_type": "code",
   "execution_count": null,
   "id": "21e3cc33",
   "metadata": {
    "scrolled": true
   },
   "outputs": [],
   "source": [
    "px.histogram(df, x='max_glu_serum', color='readmitted', title='Maximum Glucose Serum', text_auto=True)"
   ]
  },
  {
   "cell_type": "markdown",
   "id": "1b0a13d7",
   "metadata": {},
   "source": [
    "**Observations**\n",
    "+ Most individuals did not have their glucose serum levels measured.\n",
    "+ For those who did, most were normal\n",
    "+ Where not normal, they were highly elevated! There appeared to be no 'slightly elevated' range. \n",
    "+ There appears to be room for health management here. Through proper glucuse management by the patient's physician, and medical devices, this can be brought under control!\n",
    "<hr><br>"
   ]
  },
  {
   "cell_type": "code",
   "execution_count": null,
   "id": "48ee140c",
   "metadata": {
    "scrolled": true
   },
   "outputs": [],
   "source": [
    "px.histogram(df, x='A1Cresult', color='readmitted', title='A1C Result', text_auto=True)"
   ]
  },
  {
   "cell_type": "markdown",
   "id": "78f5ee7d",
   "metadata": {},
   "source": [
    "**Observations**\n",
    "+ Most patients did not have their A1C read via lab test.\n",
    "+ Where the panel was taken it was largely high for the marjority of those patients! At 8 or above!\n",
    "+ This is something that can be managed through proper care! We'll see later in Counterfactual Explanations where this change can make a difference in readmittance status.\n",
    "<hr><br>"
   ]
  },
  {
   "cell_type": "code",
   "execution_count": null,
   "id": "7f6ac29d",
   "metadata": {
    "scrolled": true
   },
   "outputs": [],
   "source": [
    "px.histogram(df, x='metformin', color='readmitted', title='Drug: Metformin for High Blood Sugar', text_auto=True)"
   ]
  },
  {
   "cell_type": "markdown",
   "id": "dbc350d1",
   "metadata": {},
   "source": [
    "**Observations**\n",
    "+ This plot was a measure of those who took Metforming HCL to control blood sugar.\n",
    "+ Results see are for the measure of high blood sugar in a patient.\n",
    "+ Most patients were not on metformin.\n",
    "+ For those who are, their levels were steady.\n",
    "+ This is a good sign! Most individuals that have high blood sugar, are keeping it under control. \n",
    "<hr><br>"
   ]
  },
  {
   "cell_type": "code",
   "execution_count": null,
   "id": "fd6939d8",
   "metadata": {
    "scrolled": true
   },
   "outputs": [],
   "source": [
    "px.histogram(df, x='repaglinide', color='readmitted', title='Drug: Repaglinide for High Blood Sugar', text_auto=True)"
   ]
  },
  {
   "cell_type": "markdown",
   "id": "59a1bd72",
   "metadata": {},
   "source": [
    "**Observations**\n",
    "+ A small set of patients were on this drug\n",
    "+ Most were not.\n",
    "<hr><br>"
   ]
  },
  {
   "cell_type": "code",
   "execution_count": null,
   "id": "a477e9dc",
   "metadata": {
    "scrolled": true
   },
   "outputs": [],
   "source": [
    "px.histogram(df, x='nateglinide', color='readmitted', title='Drug: Nateglinide for High Blood Sugar', text_auto=True)"
   ]
  },
  {
   "cell_type": "markdown",
   "id": "3d7ecbaf",
   "metadata": {},
   "source": [
    "**Observations**\n",
    "+ A small set of patients were on this drug\n",
    "+ Most were not.\n",
    "<hr><br>"
   ]
  },
  {
   "cell_type": "code",
   "execution_count": null,
   "id": "deddda66",
   "metadata": {
    "scrolled": true
   },
   "outputs": [],
   "source": [
    "px.histogram(df, x='chlorpropamide', color='readmitted', title='Drug: Chlorpropamide for High Blood Sugar', text_auto=True)"
   ]
  },
  {
   "cell_type": "markdown",
   "id": "45e38fdb",
   "metadata": {},
   "source": [
    "**Observations**\n",
    "+ A small set of patients were on this drug\n",
    "+ Most were not.\n",
    "<hr><br>"
   ]
  },
  {
   "cell_type": "code",
   "execution_count": null,
   "id": "fa351136",
   "metadata": {
    "scrolled": true
   },
   "outputs": [],
   "source": [
    "px.histogram(df, x='glimepiride', color='readmitted', title='Drug: glimepiride for High Blood Sugar', text_auto=True)"
   ]
  },
  {
   "cell_type": "markdown",
   "id": "eb802695",
   "metadata": {},
   "source": [
    "**Observations**\n",
    "+ A small set of patients were on this drug\n",
    "+ Most were not.\n",
    "<hr><br>"
   ]
  },
  {
   "cell_type": "code",
   "execution_count": null,
   "id": "974845fb",
   "metadata": {
    "scrolled": true
   },
   "outputs": [],
   "source": [
    "px.histogram(df, x='acetohexamide', color='readmitted', title='Drug: acetohexamide for High Blood Sugar', text_auto=True)"
   ]
  },
  {
   "cell_type": "markdown",
   "id": "1b0845c7",
   "metadata": {},
   "source": [
    "**Observations**\n",
    "+ Most patients were not on this drug.\n",
    "<hr><br>\n"
   ]
  },
  {
   "cell_type": "code",
   "execution_count": null,
   "id": "44ab3a89",
   "metadata": {
    "scrolled": true
   },
   "outputs": [],
   "source": [
    "px.histogram(df, x='glipizide', color='readmitted', title='Drug: glipizide for  High Blood Sugar', text_auto=True)"
   ]
  },
  {
   "cell_type": "markdown",
   "id": "a6238644",
   "metadata": {},
   "source": [
    "**Observations**\n",
    "+ A small set of patients were on this drug\n",
    "+ Most were not.\n",
    "<hr><br>"
   ]
  },
  {
   "cell_type": "code",
   "execution_count": null,
   "id": "2e1d5c66",
   "metadata": {
    "scrolled": true
   },
   "outputs": [],
   "source": [
    "px.histogram(df, x='glyburide', color='readmitted', title='Drug: glyburide for High Blood Sugar', text_auto=True)"
   ]
  },
  {
   "cell_type": "markdown",
   "id": "ac74a554",
   "metadata": {},
   "source": [
    "**Observations**\n",
    "+ A small set of patients were on this drug\n",
    "+ Most were not.\n",
    "<hr><br>"
   ]
  },
  {
   "cell_type": "code",
   "execution_count": null,
   "id": "c42cffe5",
   "metadata": {
    "scrolled": true
   },
   "outputs": [],
   "source": [
    "px.histogram(df, x='tolbutamide', color='readmitted', title='Drug: tolbutamide for  High Blood Sugar', text_auto=True)"
   ]
  },
  {
   "cell_type": "markdown",
   "id": "e82ffc82",
   "metadata": {},
   "source": [
    "**Observations**\n",
    "+ Most patients were not on this drug.\n",
    "<hr><br>"
   ]
  },
  {
   "cell_type": "code",
   "execution_count": null,
   "id": "e15a6fd4",
   "metadata": {
    "scrolled": true
   },
   "outputs": [],
   "source": [
    "px.histogram(df, x='pioglitazone', color='readmitted', title='Drug: pioglitazone for High Blood Sugar', text_auto=True)"
   ]
  },
  {
   "cell_type": "markdown",
   "id": "49baf996",
   "metadata": {},
   "source": [
    "**Observations**\n",
    "+ Drug used in a small set of patients\n",
    "+ Most were not on this drug.\n",
    "<hr><br>"
   ]
  },
  {
   "cell_type": "code",
   "execution_count": null,
   "id": "ee357721",
   "metadata": {
    "scrolled": true
   },
   "outputs": [],
   "source": [
    "px.histogram(df, x='rosiglitazone', color='readmitted', title='Drug: rosiglitazone for  High Blood Sugar', text_auto=True)"
   ]
  },
  {
   "cell_type": "markdown",
   "id": "71c2013d",
   "metadata": {},
   "source": [
    "**Observations**\n",
    "+ A small set of patients were on this drug.\n",
    "+ Most were not on this drug.\n",
    "<hr><br>"
   ]
  },
  {
   "cell_type": "code",
   "execution_count": null,
   "id": "c049cae3",
   "metadata": {
    "scrolled": true
   },
   "outputs": [],
   "source": [
    "px.histogram(df, x='acarbose', color='readmitted', title='Drug: acarbose for  High Blood Sugar', text_auto=True)"
   ]
  },
  {
   "cell_type": "markdown",
   "id": "b980fe47",
   "metadata": {},
   "source": [
    "**Observations**\n",
    "+ Most patients were not on this drug.\n",
    "<hr><br>"
   ]
  },
  {
   "cell_type": "code",
   "execution_count": null,
   "id": "ae9265f1",
   "metadata": {
    "scrolled": true
   },
   "outputs": [],
   "source": [
    "px.histogram(df, x='miglitol', color='readmitted', title='Drug: miglitol for High Blood Sugar', text_auto=True)"
   ]
  },
  {
   "cell_type": "markdown",
   "id": "a4b04e88",
   "metadata": {},
   "source": [
    "**Observations**\n",
    "+ Most patients were not on this drug.\n",
    "<hr><br>"
   ]
  },
  {
   "cell_type": "code",
   "execution_count": null,
   "id": "db3cec84",
   "metadata": {
    "scrolled": true
   },
   "outputs": [],
   "source": [
    "px.histogram(df, x='troglitazone', color='readmitted', title='Drug: troglitazone for High Blood Sugar', text_auto=True)"
   ]
  },
  {
   "cell_type": "markdown",
   "id": "5c572885",
   "metadata": {},
   "source": [
    "**Observations**\n",
    "+ Most patients were not on this drug.\n",
    "<hr><br>"
   ]
  },
  {
   "cell_type": "code",
   "execution_count": null,
   "id": "4d4e44c9",
   "metadata": {
    "scrolled": true
   },
   "outputs": [],
   "source": [
    "px.histogram(df, x='tolazamide', color='readmitted', title='Drug: tolazamide for High Blood Sugar', text_auto=True)"
   ]
  },
  {
   "cell_type": "code",
   "execution_count": null,
   "id": "80ddab34",
   "metadata": {
    "scrolled": true
   },
   "outputs": [],
   "source": [
    "px.histogram(df, x='examide', color='readmitted', title='Drug: Examide for Fluid Overload', text_auto=True)"
   ]
  },
  {
   "cell_type": "markdown",
   "id": "cc3b03e9",
   "metadata": {},
   "source": [
    "**Observations**\n",
    "+ No observations for this drug.\n",
    "<hr><br>"
   ]
  },
  {
   "cell_type": "code",
   "execution_count": null,
   "id": "d6bc0b04",
   "metadata": {
    "scrolled": true
   },
   "outputs": [],
   "source": [
    "px.histogram(df, x='citoglipton', color='readmitted', title='Drug: Citoglipton for High Blood Sugar', text_auto=True)"
   ]
  },
  {
   "cell_type": "markdown",
   "id": "757f4863",
   "metadata": {},
   "source": [
    "**Observations**\n",
    "+ No patient observations for this drug\n",
    "<hr><br>"
   ]
  },
  {
   "cell_type": "code",
   "execution_count": null,
   "id": "7217d247",
   "metadata": {
    "scrolled": true
   },
   "outputs": [],
   "source": [
    "px.histogram(df, x='insulin', color='readmitted', title='Drug: Insulin for Controlling Blood Sugar', text_auto=True)"
   ]
  },
  {
   "cell_type": "markdown",
   "id": "9dbcb5e2",
   "metadata": {},
   "source": [
    "**Observations**\n",
    "+ Most patients did not have an issue with insulin levels.\n",
    "+ For most, When checked, they were steady at the time of visit to the emergency room\n",
    "+ For those that did not have steady levels they were largely down!\n",
    "<hr><br>"
   ]
  },
  {
   "cell_type": "code",
   "execution_count": null,
   "id": "06a216c9",
   "metadata": {
    "scrolled": true
   },
   "outputs": [],
   "source": [
    "px.histogram(df, x='glyburide-metformin', color='readmitted', title='Drug: glyburide-metformin for', text_auto=True)"
   ]
  },
  {
   "cell_type": "markdown",
   "id": "a1cb5675",
   "metadata": {},
   "source": [
    "**Observations**\n",
    "+ A small set of patients were on Glyburide-Metformin\n",
    "+ Most patients were not on Glyburide-Metformin\n",
    "<hr><br>"
   ]
  },
  {
   "cell_type": "code",
   "execution_count": null,
   "id": "31ad333e",
   "metadata": {
    "scrolled": true
   },
   "outputs": [],
   "source": [
    "px.histogram(df, x='glipizide-metformin', color='readmitted', title='Drug: glipizide-metformin for High Blood Sugar', text_auto=True)"
   ]
  },
  {
   "cell_type": "markdown",
   "id": "44c647b5",
   "metadata": {},
   "source": [
    "**Observations**\n",
    "+ Most patients were not on Glipizide-Metformin\n",
    "<hr><br>"
   ]
  },
  {
   "cell_type": "code",
   "execution_count": null,
   "id": "1b6cafc7",
   "metadata": {
    "scrolled": true
   },
   "outputs": [],
   "source": [
    "px.histogram(df, x='glimepiride-pioglitazone', color='readmitted', title='Drug: glimepiride-pioglitazone for', text_auto=True)"
   ]
  },
  {
   "cell_type": "markdown",
   "id": "c9da209f",
   "metadata": {},
   "source": [
    "**Observations**\n",
    "+ Most patients were not on Glimepiride-Pioglitazone\n",
    "<hr><br>"
   ]
  },
  {
   "cell_type": "code",
   "execution_count": null,
   "id": "4ebd12d9",
   "metadata": {
    "scrolled": true
   },
   "outputs": [],
   "source": [
    "px.histogram(df, x='metformin-rosiglitazone', color='readmitted', title='Drug: metformin-rosiglitazone for', text_auto=True)"
   ]
  },
  {
   "cell_type": "markdown",
   "id": "8bc241f4",
   "metadata": {},
   "source": [
    "**Observations**\n",
    "+ Most patients were not on Metformin Rosiglitazone\n",
    "<hr><br>"
   ]
  },
  {
   "cell_type": "code",
   "execution_count": null,
   "id": "a37b58d4",
   "metadata": {
    "scrolled": true
   },
   "outputs": [],
   "source": [
    "px.histogram(df, x='metformin-pioglitazone', color='readmitted', title='Drug: metformin-pioglitazone for ', text_auto=True)"
   ]
  },
  {
   "cell_type": "markdown",
   "id": "8ccfb907",
   "metadata": {},
   "source": [
    "**Observations**\n",
    "+ Most patients were not on Metformin-Pioglitazone\n",
    "<hr><br>"
   ]
  },
  {
   "cell_type": "code",
   "execution_count": null,
   "id": "75a08684",
   "metadata": {
    "scrolled": true
   },
   "outputs": [],
   "source": [
    "px.histogram(df, x='change', color='readmitted', title='Change Of Medications', text_auto=True)"
   ]
  },
  {
   "cell_type": "markdown",
   "id": "1cde1a01",
   "metadata": {},
   "source": [
    "**Observations**\n",
    "+ This observation is for patients that had a change in their diabetic medications\n",
    "+ For the majority, there was no change.\n",
    "+ For those that did have a change, the larger portion of the patients where those who were not readmitted.\n",
    "<hr><br>"
   ]
  },
  {
   "cell_type": "code",
   "execution_count": null,
   "id": "c3fb88fc",
   "metadata": {
    "scrolled": true
   },
   "outputs": [],
   "source": [
    "px.histogram(df, x='diabetesMed', color='readmitted', title='Number of Diabetes Medications', text_auto=True)"
   ]
  },
  {
   "cell_type": "markdown",
   "id": "35dda372",
   "metadata": {},
   "source": [
    "**Observations**\n",
    "+ Most patients were already on diabetic medications. \n",
    "+ Of that group, most of those patients were not readmitted. \n",
    "<hr><br>"
   ]
  },
  {
   "cell_type": "code",
   "execution_count": null,
   "id": "2024e5ee",
   "metadata": {},
   "outputs": [],
   "source": [
    "#mapped columns. Done with visuals. we can drop those columns now. \n",
    "df.drop(columns=['admission_type_id_mapped', 'discharge_disposition_id_mapped'], inplace=True)"
   ]
  },
  {
   "cell_type": "markdown",
   "id": "0cfb2ed7",
   "metadata": {},
   "source": [
    "<br><br><h1 align='center' style=\"color:#643872; font-family:Merriweather, sans-serif; font-size:36px;\">Understanding the Task</h1>"
   ]
  },
  {
   "cell_type": "markdown",
   "id": "a6e65dfd",
   "metadata": {},
   "source": [
    "***Identification of Business Goals***\n",
    "\n",
    "+ Identify and compare the performance of the techniques(Logistic Regression, Decision Tree, Counterfactual Technique)\n",
    "+ Search for and identify where success was best\n",
    "+ Search for and Identify where improvements can be made\n",
    "+ Make recommendations on what areas physicians should be focusing on for patient health management to help efforts toward decreasing diabetic patient readmissions to hospitals. "
   ]
  },
  {
   "cell_type": "markdown",
   "id": "b8920755",
   "metadata": {},
   "source": [
    "<br><br><h1 align='center' style=\"color:#643872; font-family:Merriweather, sans-serif; font-size:36px;\">Engineering Features</h1><hr>"
   ]
  },
  {
   "cell_type": "markdown",
   "id": "8f770ef1",
   "metadata": {},
   "source": [
    "Now that basic business goals and objectives have been stated, we will build a basic model to get started. Before we can do this, we must work to encode the data where the values are not already numerical. I will prepare the features and target column for modeling with appropriate encoding and transformations. "
   ]
  },
  {
   "cell_type": "code",
   "execution_count": null,
   "id": "0c6e2e80",
   "metadata": {},
   "outputs": [],
   "source": [
    "df.info()"
   ]
  },
  {
   "cell_type": "code",
   "execution_count": null,
   "id": "507cb42b",
   "metadata": {
    "scrolled": true
   },
   "outputs": [],
   "source": [
    "#Just to get a general idea of where we stand on count for each of our values for target feature\n",
    "df['readmitted'].value_counts()"
   ]
  },
  {
   "cell_type": "code",
   "execution_count": null,
   "id": "9518da89",
   "metadata": {},
   "outputs": [],
   "source": [
    "#Update gender to be numerical value\n",
    "df['gender'] = df['gender'].replace({'Male':1, 'Female':2, 'Unknown/Invalid':3})"
   ]
  },
  {
   "cell_type": "code",
   "execution_count": null,
   "id": "be083dd3",
   "metadata": {},
   "outputs": [],
   "source": [
    "#Identify and define the numerical and categorial columns\n",
    "numerical_cols = [\n",
    "    'age',\n",
    "    'gender',\n",
    "    'admission_type_id',\n",
    " 'discharge_disposition_id',\n",
    " 'admission_source_id',\n",
    " 'time_in_hospital',\n",
    " 'num_lab_procedures',\n",
    " 'num_procedures',\n",
    " 'num_medications',\n",
    " 'number_outpatient',\n",
    " 'number_emergency',\n",
    " 'number_inpatient',\n",
    " 'number_diagnoses'\n",
    "]\n",
    "categorical_cols = ['race',\n",
    "                    'medical_specialty', \n",
    "                    'diag_1', \n",
    "                    'diag_2', \n",
    "                    'diag_3', \n",
    "                    'max_glu_serum', \n",
    "                    'A1Cresult', \n",
    "                    'metformin', \n",
    "                    'repaglinide', \n",
    "                    'nateglinide', \n",
    "                    'chlorpropamide', \n",
    "                    'glimepiride', \n",
    "                    'acetohexamide', \n",
    "                    'glipizide', \n",
    "                    'glyburide', \n",
    "                    'tolbutamide', \n",
    "                    'pioglitazone', \n",
    "                    'rosiglitazone', \n",
    "                    'acarbose', \n",
    "                    'miglitol', \n",
    "                    'troglitazone', \n",
    "                    'tolazamide', \n",
    "                    'examide', \n",
    "                    'citoglipton', \n",
    "                    'insulin', \n",
    "                    'glyburide-metformin', \n",
    "                    'glipizide-metformin', \n",
    "                    'glimepiride-pioglitazone', \n",
    "                    'metformin-rosiglitazone', \n",
    "                    'metformin-pioglitazone', \n",
    "                    'change', \n",
    "                    'diabetesMed', \n",
    "                    'readmitted']"
   ]
  },
  {
   "cell_type": "code",
   "execution_count": null,
   "id": "bfb7b308",
   "metadata": {
    "scrolled": true
   },
   "outputs": [],
   "source": [
    "#Here we will use our Label Encoder to help digitize those columns which are not int/float\n",
    "encoder_df = df.copy()\n",
    "encoder = preprocessing.LabelEncoder()\n",
    "\n",
    "def target_encoder(data):\n",
    "    impute_ordinal = encoder.fit_transform(data)\n",
    "    data.loc[data.notnull()] = np.squeeze(impute_ordinal)\n",
    "    return data\n",
    "\n",
    "for i in tqdm(range(len(categorical_cols))):\n",
    "    target_encoder(encoder_df[categorical_cols[i]])"
   ]
  },
  {
   "cell_type": "markdown",
   "id": "74d0760c",
   "metadata": {},
   "source": [
    "<br><br><h1 align='center' style=\"color:#643872; font-family:Merriweather, sans-serif; font-size:36px;\">Train/Test Split</h1>\n",
    "\n",
    "With our data prepared, split it into a train and test set"
   ]
  },
  {
   "cell_type": "code",
   "execution_count": null,
   "id": "d8fdb2ee",
   "metadata": {},
   "outputs": [],
   "source": [
    "X = encoder_df.drop('readmitted', axis=1)\n",
    "y = encoder_df['readmitted'].astype('int')\n",
    "#print(y)"
   ]
  },
  {
   "cell_type": "code",
   "execution_count": null,
   "id": "9cd353e7",
   "metadata": {},
   "outputs": [],
   "source": [
    "X_train, X_test, y_train, y_test = train_test_split(X, y, test_size=0.3, random_state=42)"
   ]
  },
  {
   "cell_type": "markdown",
   "id": "59fcf5cd",
   "metadata": {},
   "source": [
    "<br><br><h1 align='center' style=\"color:#643872; font-family:Merriweather, sans-serif; font-size:36px;\">A Baseline Model<h1><hr>"
   ]
  },
  {
   "cell_type": "markdown",
   "id": "69ddd7a9",
   "metadata": {},
   "source": [
    "Before we build our first model, we want to establish a baseline.</p>"
   ]
  },
  {
   "cell_type": "code",
   "execution_count": null,
   "id": "1dca79e8",
   "metadata": {},
   "outputs": [],
   "source": [
    "models = ['Baseline','Logistic Regression', 'Decision Tree']\n",
    "train_time = []\n",
    "train_accuracy = []\n",
    "test_accuracy = []\n",
    "accuracy_score = []\n",
    "AUC_score = []\n",
    "\n",
    "\n",
    "dummy = DummyClassifier(strategy='uniform', random_state=42)\n",
    "start_time = time()\n",
    "dummy.fit(X_train, y_train)\n",
    "train_time.append(time() - start_time)\n",
    "train_accuracy.append(dummy.score(X_train, y_train))\n",
    "test_accuracy.append(dummy.score(X_test, y_test))\n",
    "accuracy_score.append('N/A')\n",
    "AUC_score.append('N/A')"
   ]
  },
  {
   "cell_type": "code",
   "execution_count": null,
   "id": "8b436c4c",
   "metadata": {},
   "outputs": [],
   "source": [
    "print(\"#################BASELINE ANALYSIS####################\\n\")\n",
    "print(f'Training time :{train_time}')\n",
    "print(f'Training accuracy :{train_accuracy}')\n",
    "print(f'Test accuracy :{test_accuracy}')\n",
    "print(f'Accuracy score : Not Yet Available')\n",
    "print(f'AUC score : Not Yet Available')\n",
    "print(\"\\n######################################################\")"
   ]
  },
  {
   "cell_type": "markdown",
   "id": "35c25cd8",
   "metadata": {},
   "source": [
    "<br><br><h1 align='center' style=\"color:#643872; font-family:Merriweather, sans-serif; font-size:36px;\">A Simple Model</h1><hr>\n",
    "Here we will use Logistic Regression to build a basic model on our data. "
   ]
  },
  {
   "cell_type": "code",
   "execution_count": null,
   "id": "be3638b7",
   "metadata": {
    "scrolled": true
   },
   "outputs": [],
   "source": [
    "maxit = 100000\n",
    "lgr = LogisticRegression(solver='liblinear', random_state=42, max_iter=maxit)\n",
    "start_time = time()\n",
    "lgr.fit(X_train, y_train)\n",
    "train_time.append(time() - start_time)\n",
    "y_pred = lgr.predict(X_test)"
   ]
  },
  {
   "cell_type": "markdown",
   "id": "559203fb",
   "metadata": {},
   "source": [
    "<br><br><h1 align='center' style=\"color:#643872; font-family:Merriweather, sans-serif; font-size:36px;\">Score the Model</h1><hr>\n",
    "Viewing our accuracy of this model"
   ]
  },
  {
   "cell_type": "code",
   "execution_count": null,
   "id": "fa9df5e3",
   "metadata": {},
   "outputs": [],
   "source": [
    "train_accuracy.append(lgr.score(X_train, y_train))\n",
    "test_accuracy.append(lgr.score(X_test, y_test))\n",
    "accuracy_score.append(metrics.accuracy_score(y_test, y_pred))\n",
    "fpr, tpr, _thresholds = metrics.roc_curve(y_test, y_pred)\n",
    "AUC_score.append(metrics.auc(fpr, tpr))"
   ]
  },
  {
   "cell_type": "code",
   "execution_count": null,
   "id": "432bd322",
   "metadata": {},
   "outputs": [],
   "source": [
    "print(\"#################LOGISTIC REGRESSION ANALYSIS####################\\n\")\n",
    "print(f'Training time :{train_time[1]}')\n",
    "print(f'Training accuracy :{train_accuracy[1]}')\n",
    "print(f'Test accuracy :{test_accuracy[1]}')\n",
    "print(f'Accuracy score : {accuracy_score[1]}')\n",
    "print(f'AUC score : {AUC_score[1]}')\n",
    "print(\"\\n######################################################\")"
   ]
  },
  {
   "cell_type": "code",
   "execution_count": null,
   "id": "672e5332",
   "metadata": {},
   "outputs": [],
   "source": [
    "cm_plot = sns.heatmap(confusion_matrix(y_test, y_pred), annot=True, cmap='icefire', fmt='d')\n",
    "cm_plot.set_xlabel('Predictions')\n",
    "cm_plot.set_ylabel('Actuals')\n",
    "plt.title(\"Logistic Regression\")"
   ]
  },
  {
   "cell_type": "markdown",
   "id": "bd0c8df5",
   "metadata": {},
   "source": [
    "<br><br><h1 align='center' style=\"color:#643872; font-family:Merriweather, sans-serif; font-size:36px;\">Model Comparisons</h1><hr>"
   ]
  },
  {
   "cell_type": "code",
   "execution_count": null,
   "id": "ac156b60",
   "metadata": {},
   "outputs": [],
   "source": [
    "from pandas.core.common import random_state\n",
    "model_pipeline = []\n",
    "model_pipeline.append(DecisionTreeClassifier(random_state=42))\n",
    "cm_results = []"
   ]
  },
  {
   "cell_type": "code",
   "execution_count": null,
   "id": "4d5dda74",
   "metadata": {},
   "outputs": [],
   "source": [
    "model_pipeline"
   ]
  },
  {
   "cell_type": "code",
   "execution_count": null,
   "id": "6af9efc8",
   "metadata": {},
   "outputs": [],
   "source": [
    "for model in model_pipeline:\n",
    "  start_time = time()\n",
    "  model.fit(X_train, y_train)\n",
    "  train_time.append(time() - start_time)\n",
    "  y_pred = model.predict(X_test)\n",
    "  train_accuracy.append(model.score(X_train, y_train))\n",
    "  test_accuracy.append(model.score(X_test, y_test))\n",
    "  accuracy_score.append(metrics.accuracy_score(y_test, y_pred))\n",
    "  fpr, tpr, _thresholds = metrics.roc_curve(y_test, y_pred)\n",
    "  AUC_score.append(metrics.auc(fpr, tpr))\n",
    "  cm_results.append(confusion_matrix(y_test, y_pred))"
   ]
  },
  {
   "cell_type": "code",
   "execution_count": null,
   "id": "b8d69155",
   "metadata": {},
   "outputs": [],
   "source": [
    "fig = plt.figure(figsize=(12, 10))\n",
    "for i in range(len(cm_results)):\n",
    "  cm = cm_results[i]\n",
    "  model = models[i+2]\n",
    "  sub = fig.add_subplot(2, 2, i+1).set_title(model)\n",
    "  cm_plot = sns.heatmap(cm, annot=True, cmap='icefire', fmt='d')\n",
    "  cm_plot.set_xlabel('Predictions')\n",
    "  cm_plot.set_ylabel('Actuals')"
   ]
  },
  {
   "cell_type": "code",
   "execution_count": null,
   "id": "a138becf",
   "metadata": {},
   "outputs": [],
   "source": [
    "results1_df = pd.DataFrame({'Model': models, 'Train Time': train_time, 'Train Score': train_accuracy , 'Test Score': test_accuracy , 'Accuracy Score': accuracy_score, 'AUC Score': AUC_score})\n",
    "results1_df"
   ]
  },
  {
   "cell_type": "markdown",
   "id": "02fa1929",
   "metadata": {},
   "source": [
    "<br><br><h1 align='center' style=\"color:#643872; font-family:Merriweather, sans-serif; font-size:36px;\">Problem 11: Improving the Model</h1><hr>"
   ]
  },
  {
   "cell_type": "code",
   "execution_count": null,
   "id": "32b8c463",
   "metadata": {},
   "outputs": [],
   "source": [
    "models = ['Logistic Regression', 'Decision Tree']\n",
    "best_params = []\n",
    "fit_time = []\n",
    "acc_score = []\n",
    "recall_score = []\n",
    "prec_score = []\n",
    "f1_score = []\n",
    "r2_score = []\n",
    "roc_auc_score = []"
   ]
  },
  {
   "cell_type": "code",
   "execution_count": null,
   "id": "a44deae1",
   "metadata": {},
   "outputs": [],
   "source": [
    "grid={\"C\":np.logspace(-3,3,7), \"penalty\":[\"l1\",\"l2\"]}# l1-Lasso l2-Ridge\n",
    "lgr = LogisticRegression(max_iter=maxit)\n",
    "lgr_cv=GridSearchCV(lgr, grid, cv=10)\n",
    "lgr_cv.fit(X_train, y_train)"
   ]
  },
  {
   "cell_type": "code",
   "execution_count": null,
   "id": "2ad5bc27",
   "metadata": {},
   "outputs": [],
   "source": [
    "lgr_cv.best_params_"
   ]
  },
  {
   "cell_type": "code",
   "execution_count": null,
   "id": "3e456566",
   "metadata": {},
   "outputs": [],
   "source": [
    "lgr2=LogisticRegression(C=0.1, penalty=\"l2\", random_state=42, max_iter=maxit) \n",
    "start_time = time()\n",
    "lgr2.fit(X_train,y_train)\n",
    "train_time = time() - start_time"
   ]
  },
  {
   "cell_type": "code",
   "execution_count": null,
   "id": "214e8932",
   "metadata": {},
   "outputs": [],
   "source": [
    "y_pred = lgr2.predict(X_test)"
   ]
  },
  {
   "cell_type": "code",
   "execution_count": null,
   "id": "73e7f868",
   "metadata": {},
   "outputs": [],
   "source": [
    "cm_plot = sns.heatmap(confusion_matrix(y_test, y_pred), annot=True, cmap='icefire', fmt='d')\n",
    "cm_plot.set_xlabel('Predictions')\n",
    "cm_plot.set_ylabel('Actuals')\n",
    "plt.title(\"Performance Confusion Matrix\")"
   ]
  },
  {
   "cell_type": "code",
   "execution_count": null,
   "id": "f485318e",
   "metadata": {},
   "outputs": [],
   "source": [
    "best_params.append(lgr_cv.best_params_)\n",
    "fit_time.append(train_time)\n",
    "acc_score.append(metrics.accuracy_score(y_test, y_pred))\n",
    "recall_score.append(metrics.recall_score(y_test, y_pred))\n",
    "prec_score.append(metrics.precision_score(y_test, y_pred))\n",
    "f1_score.append(metrics.f1_score(y_test, y_pred))\n",
    "r2_score.append(metrics.r2_score(y_test, y_pred))\n",
    "roc_auc_score.append(metrics.roc_auc_score(y_test, y_pred))"
   ]
  },
  {
   "cell_type": "code",
   "execution_count": null,
   "id": "403faead",
   "metadata": {},
   "outputs": [],
   "source": [
    "importance = lgr2.coef_[0]\n",
    "for i,v in enumerate(importance):\n",
    "    print(f'Feature: {df.columns[i]} \\t Score:{v}')\n",
    "\n",
    "plt.bar([x for x in range(len(importance))], importance)\n",
    "plt.show()"
   ]
  },
  {
   "cell_type": "code",
   "execution_count": null,
   "id": "39fe49a1",
   "metadata": {},
   "outputs": [],
   "source": [
    "encoder_df.info()"
   ]
  },
  {
   "cell_type": "code",
   "execution_count": null,
   "id": "e5664975",
   "metadata": {},
   "outputs": [],
   "source": [
    "params = {'max_depth': [1, 3, 5, 7, 11, 13, 15, 17, 19, 21, 23],\n",
    "         'min_samples_split': [1, 50, 2],\n",
    "          'criterion': ['gini', 'entropy'],\n",
    "          'min_samples_leaf': [1]}\n",
    "dtree = DecisionTreeClassifier()\n",
    "dtree_cv = GridSearchCV(dtree, params, cv=10)\n",
    "dtree_cv.fit(X_train, y_train)"
   ]
  },
  {
   "cell_type": "code",
   "execution_count": null,
   "id": "a37c42cc",
   "metadata": {},
   "outputs": [],
   "source": [
    "dtree_cv.best_params_"
   ]
  },
  {
   "cell_type": "code",
   "execution_count": null,
   "id": "40c0fe5f",
   "metadata": {},
   "outputs": [],
   "source": [
    "dtree2=DecisionTreeClassifier(criterion='gini', max_depth=7, min_samples_leaf=1, min_samples_split=50, random_state=42)\n",
    "start_time = time()\n",
    "dtree2.fit(X_train,y_train)\n",
    "train_time = time() - start_time"
   ]
  },
  {
   "cell_type": "code",
   "execution_count": null,
   "id": "884e5e22",
   "metadata": {},
   "outputs": [],
   "source": [
    "y_pred = dtree2.predict(X_test)"
   ]
  },
  {
   "cell_type": "code",
   "execution_count": null,
   "id": "6ac2ac13",
   "metadata": {},
   "outputs": [],
   "source": [
    "cm_plot = sns.heatmap(confusion_matrix(y_test, y_pred), annot=True, cmap='icefire', fmt='d')\n",
    "cm_plot.set_xlabel('Predictions')\n",
    "cm_plot.set_ylabel('Actuals')\n",
    "plt.title(\"Performance Confusion Matrix\")"
   ]
  },
  {
   "cell_type": "code",
   "execution_count": null,
   "id": "6eccb496",
   "metadata": {},
   "outputs": [],
   "source": [
    "best_params.append(dtree_cv.best_params_)\n",
    "fit_time.append(train_time)\n",
    "acc_score.append(metrics.accuracy_score(y_test, y_pred))\n",
    "recall_score.append(metrics.recall_score(y_test, y_pred))\n",
    "prec_score.append(metrics.precision_score(y_test, y_pred))\n",
    "f1_score.append(metrics.f1_score(y_test, y_pred))\n",
    "r2_score.append(metrics.r2_score(y_test, y_pred))\n",
    "roc_auc_score.append(metrics.roc_auc_score(y_test, y_pred))"
   ]
  },
  {
   "cell_type": "code",
   "execution_count": null,
   "id": "88a97abc",
   "metadata": {},
   "outputs": [],
   "source": [
    "dtree_coeffs = pd.Series(dtree2.feature_importances_, index=X_train.columns)\n",
    "dtree_coeffs.plot(kind='bar', figsize=(15,10))\n",
    "plt.title('Decision Tree Coefficients')\n",
    "plt.xlabel('X_train Values')\n",
    "plt.tick_params(axis='x', rotation=-80)"
   ]
  },
  {
   "cell_type": "code",
   "execution_count": null,
   "id": "bb7ed57f",
   "metadata": {},
   "outputs": [],
   "source": [
    "#top 15 features, according to decision tree\n",
    "dtree_coeffs.sort_values(ascending=False).head(15)"
   ]
  },
  {
   "cell_type": "code",
   "execution_count": null,
   "id": "c9e82aed",
   "metadata": {},
   "outputs": [],
   "source": [
    "results2_df = pd.DataFrame({'Model': models, 'Best_Params': best_params, 'Train_Time': fit_time, 'Accuracy_Score': acc_score, 'Recall_Score': recall_score, 'Precision_Score': prec_score, 'F1_Score': f1_score, 'R2_Score': r2_score, 'ROC_AUC_Score': roc_auc_score})\n",
    "results2_df"
   ]
  },
  {
   "cell_type": "markdown",
   "id": "55b8124e",
   "metadata": {},
   "source": [
    "<hr><br><br><h1 align='center' style=\"color:#643872; font-family:Merriweather, sans-serif; font-size:36px;\">Implementation of Counterfactual Explanations</h1><hr><br><img src=\"images/african-american-doctor-discussing-healthcare-trea-2021-12-09-02-41-56-utc.jpg\" width=\"90%\" height=\"90%\">"
   ]
  },
  {
   "cell_type": "code",
   "execution_count": null,
   "id": "a3d6bb62",
   "metadata": {},
   "outputs": [],
   "source": [
    "pd.set_option('display.max_columns',None)"
   ]
  },
  {
   "cell_type": "code",
   "execution_count": null,
   "id": "ba01f25f",
   "metadata": {},
   "outputs": [],
   "source": [
    "X = encoder_df.drop('readmitted', axis=1)\n",
    "y = encoder_df['readmitted'].astype('int')"
   ]
  },
  {
   "cell_type": "code",
   "execution_count": null,
   "id": "85dc2e7e",
   "metadata": {},
   "outputs": [],
   "source": [
    "X_train, X_test, y_train, y_test = train_test_split(X, y, test_size = 0.3, random_state = 123, stratify = y)"
   ]
  },
  {
   "cell_type": "code",
   "execution_count": null,
   "id": "5e97bc28",
   "metadata": {},
   "outputs": [],
   "source": [
    "encoder_df.columns"
   ]
  },
  {
   "cell_type": "code",
   "execution_count": null,
   "id": "17a98869",
   "metadata": {},
   "outputs": [],
   "source": [
    "#array of features that a physician can actually influence in an attempt to keep a diabetic\n",
    "# patient healthier. some features such as race, age, gender, etc. cannot be modified to change health outcome. \n",
    "# Thus, we omit from our continuous feature array. We only want items that can be manipulated by medication, nutrition,\n",
    "# excercise, and/or some other means deemed acceptable by physicians/researchers. \n",
    "cf_array = ['num_medications', 'number_outpatient', 'number_emergency',\n",
    "       'number_inpatient', 'diag_1', 'diag_2', 'diag_3', 'number_diagnoses',\n",
    "       'max_glu_serum', 'A1Cresult', 'metformin', 'repaglinide', 'nateglinide',\n",
    "       'chlorpropamide', 'glimepiride', 'acetohexamide', 'glipizide',\n",
    "       'glyburide', 'tolbutamide', 'pioglitazone', 'rosiglitazone', 'acarbose',\n",
    "       'miglitol', 'troglitazone', 'tolazamide', 'examide', 'citoglipton',\n",
    "       'insulin', 'glyburide-metformin', 'glipizide-metformin',\n",
    "       'glimepiride-pioglitazone', 'metformin-rosiglitazone',\n",
    "       'metformin-pioglitazone', 'change', 'diabetesMed']"
   ]
  },
  {
   "cell_type": "code",
   "execution_count": null,
   "id": "bdd68ed3",
   "metadata": {},
   "outputs": [],
   "source": [
    "# dice complained about not readily recognizing the int values. encoder_df.info() \n",
    "# showed them as objects. so, manually converting over to int type.\n",
    "encoder_df['diag_1'] = encoder_df['diag_1'].astype('float')\n",
    "encoder_df['diag_2'] = encoder_df['diag_1'].astype('float')\n",
    "encoder_df['diag_3'] = encoder_df['diag_1'].astype('float')\n",
    "encoder_df['max_glu_serum'] = encoder_df['max_glu_serum'].astype('int')\n",
    "encoder_df['A1Cresult'] = encoder_df['A1Cresult'].astype('int')\n",
    "encoder_df['max_glu_serum'] = encoder_df['max_glu_serum'].astype('int')\n",
    "encoder_df['metformin'] = encoder_df['max_glu_serum'].astype('int')\n",
    "encoder_df['repaglinide'] = encoder_df['repaglinide'].astype('int')\n",
    "encoder_df['nateglinide'] = encoder_df['nateglinide'].astype('int')\n",
    "encoder_df['chlorpropamide'] = encoder_df['chlorpropamide'].astype('int')\n",
    "encoder_df['glimepiride'] = encoder_df['glimepiride'].astype('int')\n",
    "encoder_df['acetohexamide'] = encoder_df['acetohexamide'].astype('int')\n",
    "encoder_df['glipizide'] = encoder_df['glipizide'].astype('int')\n",
    "encoder_df['glyburide'] = encoder_df['glyburide'].astype('int')\n",
    "encoder_df['tolbutamide'] = encoder_df['tolbutamide'].astype('int')\n",
    "encoder_df['pioglitazone'] = encoder_df['pioglitazone'].astype('int')\n",
    "encoder_df['rosiglitazone'] = encoder_df['rosiglitazone'].astype('int')\n",
    "encoder_df['acarbose'] = encoder_df['acarbose'].astype('int')\n",
    "encoder_df['miglitol'] = encoder_df['miglitol'].astype('int')\n",
    "encoder_df['troglitazone'] = encoder_df['troglitazone'].astype('int')\n",
    "encoder_df['tolazamide'] = encoder_df['tolazamide'].astype('int')\n",
    "encoder_df['examide'] = encoder_df['examide'].astype('int')\n",
    "encoder_df['citoglipton'] = encoder_df['citoglipton'].astype('int')\n",
    "encoder_df['insulin'] = encoder_df['insulin'].astype('int')\n",
    "encoder_df['glyburide-metformin'] = encoder_df['glyburide-metformin'].astype('int')\n",
    "encoder_df['glipizide-metformin'] = encoder_df['glipizide-metformin'].astype('int')\n",
    "encoder_df['glimepiride-pioglitazone'] = encoder_df['glimepiride-pioglitazone'].astype('int')\n",
    "encoder_df['metformin-rosiglitazone'] = encoder_df['metformin-rosiglitazone'].astype('int')\n",
    "encoder_df['metformin-pioglitazone'] = encoder_df['metformin-pioglitazone'].astype('int')\n",
    "encoder_df['change'] = encoder_df['change'].astype('int')\n",
    "encoder_df['diabetesMed'] = encoder_df['diabetesMed'].astype('int')\n"
   ]
  },
  {
   "cell_type": "code",
   "execution_count": null,
   "id": "7ab9bffc",
   "metadata": {},
   "outputs": [],
   "source": [
    "# step 1 - dice_ml.Data\n",
    "d = dice_ml.Data(dataframe = encoder_df, \n",
    "             continuous_features = cf_array, outcome_name = 'readmitted')"
   ]
  },
  {
   "cell_type": "code",
   "execution_count": null,
   "id": "8baaaaf0",
   "metadata": {},
   "outputs": [],
   "source": [
    "d"
   ]
  },
  {
   "cell_type": "markdown",
   "id": "d5942762",
   "metadata": {},
   "source": [
    "**Diverse Counterfactual Explanations (DiCE) for ML: https://github.com/interpretml/DiCE**"
   ]
  },
  {
   "cell_type": "code",
   "execution_count": null,
   "id": "b77617d3",
   "metadata": {},
   "outputs": [],
   "source": [
    "dtclf = DecisionTreeClassifier().fit(X_train, y_train)"
   ]
  },
  {
   "cell_type": "code",
   "execution_count": null,
   "id": "50f2cc0a",
   "metadata": {},
   "outputs": [],
   "source": [
    "# use the sklearn backend\n",
    "m = dice_ml.Model(model = dtclf, backend = \"sklearn\")"
   ]
  },
  {
   "cell_type": "code",
   "execution_count": null,
   "id": "176118fa",
   "metadata": {},
   "outputs": [],
   "source": [
    "exp = dice_ml.Dice(d, m, method = 'random')"
   ]
  },
  {
   "cell_type": "code",
   "execution_count": null,
   "id": "28bdf7ef",
   "metadata": {},
   "outputs": [],
   "source": [
    "e1 = exp.generate_counterfactuals(X_test[0:1],\n",
    "                             total_CFs = 2,\n",
    "                             desired_class = \"opposite\")\n",
    "\n",
    "e1.visualize_as_dataframe()"
   ]
  },
  {
   "cell_type": "code",
   "execution_count": null,
   "id": "e61fab5d",
   "metadata": {},
   "outputs": [],
   "source": [
    "e2 = exp.generate_counterfactuals(X_test[0:1],\n",
    "                             total_CFs = 2,\n",
    "                             desired_class = \"opposite\",\n",
    "                             features_to_vary = cf_array)\n",
    "\n",
    "e2.visualize_as_dataframe()"
   ]
  }
 ],
 "metadata": {
  "kernelspec": {
   "display_name": "Python 3 (ipykernel)",
   "language": "python",
   "name": "python3"
  },
  "language_info": {
   "codemirror_mode": {
    "name": "ipython",
    "version": 3
   },
   "file_extension": ".py",
   "mimetype": "text/x-python",
   "name": "python",
   "nbconvert_exporter": "python",
   "pygments_lexer": "ipython3",
   "version": "3.8.12"
  }
 },
 "nbformat": 4,
 "nbformat_minor": 5
}
